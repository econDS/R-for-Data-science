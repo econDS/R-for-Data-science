{
 "cells": [
  {
   "cell_type": "markdown",
   "metadata": {},
   "source": [
    "# Regression with Gradient decent"
   ]
  },
  {
   "cell_type": "markdown",
   "metadata": {},
   "source": [
    "สร้างข้อมูลโดยให้ x และ y มีความพันธ์ดังสมมการ $y = -2x^2+50x-150+noise$ &nbsp;&nbsp;&nbsp;&nbsp;&nbsp;&nbsp; โดยที่  $noise \\sim N(0,20)$"
   ]
  },
  {
   "cell_type": "code",
   "execution_count": 1,
   "metadata": {
    "collapsed": false
   },
   "outputs": [
    {
     "data": {
      "image/png": "[encoded data removed]",
      "text/plain": [
       "plot without title"
      ]
     },
     "metadata": {},
     "output_type": "display_data"
    }
   ],
   "source": [
    "#Linear Regression ####\n",
    "#generate data\n",
    "x <- seq(1,20, by=0.5)\n",
    "noise <- rnorm(length(x), mean=0, sd=20)\n",
    "y <- -2*x^2+50*x-150+noise #you can remove noise if you want to test with perfect data\n",
    "plot(x,y)\n",
    "x_sq <- x^2"
   ]
  },
  {
   "cell_type": "markdown",
   "metadata": {},
   "source": [
    "จะให้ได้ว่าเป็นความสัมพันธ์แบบ quardraic จึงต้องสร้างตัวแปร x_sq เพื่อใช้นแบบจำลอง regression จากนั้นรวมตัวแปรอิสระไว้ด้วยกันในตัวแปร feat ตัวแปรตาม res"
   ]
  },
  {
   "cell_type": "code",
   "execution_count": 2,
   "metadata": {
    "collapsed": true
   },
   "outputs": [],
   "source": [
    "#data\n",
    "feat <- cbind(x,x_sq)\n",
    "res <- y"
   ]
  },
  {
   "cell_type": "markdown",
   "metadata": {},
   "source": [
    "สร้างฟังก์ชัน regression ที่ประมาณการค่าสัมประสิทธิด้วยวิธี Gradient descent"
   ]
  },
  {
   "cell_type": "code",
   "execution_count": 17,
   "metadata": {
    "collapsed": true
   },
   "outputs": [],
   "source": [
    "reg <- function(X,y, alpha=0.0001, iter=2000) {\n",
    "  #as.metrix\n",
    "  X <- cbind(rep(1,nrow(X)),X)\n",
    "  colnames(X)[1] <- \"x0\"\n",
    "  X <- as.matrix(X)\n",
    "  Y <- as.matrix(y)\n",
    "  \n",
    "  #init\n",
    "  Theta <- matrix(rnorm(ncol(X)), nrow=ncol(X))\n",
    "  err <- 0\n",
    "  m <- nrow(X)\n",
    "  for(i in 1:iter){\n",
    "    #model\n",
    "    h <- X %*% Theta\n",
    "    \n",
    "    #cost\n",
    "    J <- sum((h-Y)^2)/(2*m)\n",
    "    err[i] <- J\n",
    "    #if (i %% 500 == 0){cat(\"iteration\",i,\"error =\",J,\"\\n\")} #Only for RStudio\n",
    "    \n",
    "    #gradient\n",
    "    dJ <- colSums(as.vector(h-Y)*X)/m\n",
    "    \n",
    "    #update\n",
    "    Beta <- Theta-alpha*dJ\n",
    "    Theta <- Beta\n",
    "  }\n",
    "  plot(err,type=\"l\", xlab=\"iteration\", ylab=\"loss\", main=\"loss during iteration\")\n",
    "  rownames(Theta) <- paste0(\"Theta\", 0:(ncol(X)-1))\n",
    "  result <- list(coefs = Theta, yhat = h)\n",
    "  return(invisible(result))\n",
    "}"
   ]
  },
  {
   "cell_type": "markdown",
   "metadata": {},
   "source": [
    "# Train"
   ]
  },
  {
   "cell_type": "markdown",
   "metadata": {},
   "source": [
    "เริ่มเทรนแบบจำลอง โดยกดหนด learning rate ที่ 0.00005 จำนวนการเทรน 1 ล้านรอบ  \n",
    "(อาจจะใช้เวลาประมาณ 1 นาที ขึ่้นอยู่กับ CPU)"
   ]
  },
  {
   "cell_type": "code",
   "execution_count": 18,
   "metadata": {
    "collapsed": false
   },
   "outputs": [
    {
     "data": {
      "image/png": "[encoded data removed]",
      "text/plain": [
       "Plot with title \"loss during iteration\""
      ]
     },
     "metadata": {},
     "output_type": "display_data"
    }
   ],
   "source": [
    "model1 <- reg(feat,res, alpha=0.00005, iter=1e6)"
   ]
  },
  {
   "cell_type": "markdown",
   "metadata": {},
   "source": [
    "ค่าสัมประสิทธิที่ได้จาก train ด้วย gradient descent"
   ]
  },
  {
   "cell_type": "code",
   "execution_count": 12,
   "metadata": {
    "collapsed": false
   },
   "outputs": [
    {
     "data": {
      "text/html": [
       "<table>\n",
       "<tbody>\n",
       "\t<tr><th scope=row>Theta0</th><td>-165.307244</td></tr>\n",
       "\t<tr><th scope=row>Theta1</th><td>  53.514901</td></tr>\n",
       "\t<tr><th scope=row>Theta2</th><td>  -2.158303</td></tr>\n",
       "</tbody>\n",
       "</table>\n"
      ],
      "text/latex": [
       "\\begin{tabular}{r|l}\n",
       "\tTheta0 & -165.307244\\\\\n",
       "\tTheta1 &   53.514901\\\\\n",
       "\tTheta2 &   -2.158303\\\\\n",
       "\\end{tabular}\n"
      ],
      "text/markdown": [
       "\n",
       "| Theta0 | -165.307244 | \n",
       "| Theta1 |   53.514901 | \n",
       "| Theta2 |   -2.158303 | \n",
       "\n",
       "\n"
      ],
      "text/plain": [
       "       [,1]       \n",
       "Theta0 -165.307244\n",
       "Theta1   53.514901\n",
       "Theta2   -2.158303"
      ]
     },
     "metadata": {},
     "output_type": "display_data"
    }
   ],
   "source": [
    "model1$coefs"
   ]
  },
  {
   "cell_type": "markdown",
   "metadata": {},
   "source": [
    "พล็อตเส้นที่ได้จากการประมาณค่ากับข้อมูล"
   ]
  },
  {
   "cell_type": "code",
   "execution_count": 13,
   "metadata": {
    "collapsed": false
   },
   "outputs": [
    {
     "data": {
      "image/png": "[encoded data removed]",
      "text/plain": [
       "plot without title"
      ]
     },
     "metadata": {},
     "output_type": "display_data"
    }
   ],
   "source": [
    "plot(x,y)\n",
    "lines(x, model1$yhat, col=\"red\")"
   ]
  },
  {
   "cell_type": "markdown",
   "metadata": {},
   "source": [
    "แบบเทียบค่าสัมประสิทธิกับวิธี Normal Equation ซึ่งค่าสัมประสิทธิจะเท่ากับ $Theta = (XX)'X'y$"
   ]
  },
  {
   "cell_type": "code",
   "execution_count": 15,
   "metadata": {
    "collapsed": false
   },
   "outputs": [
    {
     "data": {
      "text/html": [
       "<table>\n",
       "<tbody>\n",
       "\t<tr><th scope=row>Theta0</th><td>-168.616654</td></tr>\n",
       "\t<tr><th scope=row>Theta1</th><td>  54.170106</td></tr>\n",
       "\t<tr><th scope=row>Theta2</th><td>  -2.185301</td></tr>\n",
       "</tbody>\n",
       "</table>\n"
      ],
      "text/latex": [
       "\\begin{tabular}{r|l}\n",
       "\tTheta0 & -168.616654\\\\\n",
       "\tTheta1 &   54.170106\\\\\n",
       "\tTheta2 &   -2.185301\\\\\n",
       "\\end{tabular}\n"
      ],
      "text/markdown": [
       "\n",
       "| Theta0 | -168.616654 | \n",
       "| Theta1 |   54.170106 | \n",
       "| Theta2 |   -2.185301 | \n",
       "\n",
       "\n"
      ],
      "text/plain": [
       "       [,1]       \n",
       "Theta0 -168.616654\n",
       "Theta1   54.170106\n",
       "Theta2   -2.185301"
      ]
     },
     "metadata": {},
     "output_type": "display_data"
    }
   ],
   "source": [
    "#Normal Equation ####\n",
    "require(MASS)\n",
    "X_one <- cbind(rep(1,length(x)),feat)\n",
    "colnames(X_one)[1] <- \"x0\"\n",
    "X_one <- as.matrix(X_one)\n",
    "theta <- ginv(t(X_one) %*% X_one) %*% t(X_one) %*% y\n",
    "rownames(theta) <- paste0(\"Theta\", 0:(ncol(X_one)-1))\n",
    "theta"
   ]
  },
  {
   "cell_type": "code",
   "execution_count": 16,
   "metadata": {
    "collapsed": false
   },
   "outputs": [
    {
     "data": {
      "text/html": [
       "<table>\n",
       "<tbody>\n",
       "\t<tr><th scope=row>Theta0</th><td>-165.307244</td></tr>\n",
       "\t<tr><th scope=row>Theta1</th><td>  53.514901</td></tr>\n",
       "\t<tr><th scope=row>Theta2</th><td>  -2.158303</td></tr>\n",
       "</tbody>\n",
       "</table>\n"
      ],
      "text/latex": [
       "\\begin{tabular}{r|l}\n",
       "\tTheta0 & -165.307244\\\\\n",
       "\tTheta1 &   53.514901\\\\\n",
       "\tTheta2 &   -2.158303\\\\\n",
       "\\end{tabular}\n"
      ],
      "text/markdown": [
       "\n",
       "| Theta0 | -165.307244 | \n",
       "| Theta1 |   53.514901 | \n",
       "| Theta2 |   -2.158303 | \n",
       "\n",
       "\n"
      ],
      "text/plain": [
       "       [,1]       \n",
       "Theta0 -165.307244\n",
       "Theta1   53.514901\n",
       "Theta2   -2.158303"
      ]
     },
     "metadata": {},
     "output_type": "display_data"
    }
   ],
   "source": [
    "model1$coefs"
   ]
  },
  {
   "cell_type": "markdown",
   "metadata": {},
   "source": [
    "หากจำนวนรอบการ train มากกว่านี้จะได้ค่าที่ใกล้เคียงยิ่งขึ้น"
   ]
  }
 ],
 "metadata": {
  "kernelspec": {
   "display_name": "R",
   "language": "R",
   "name": "ir"
  },
  "language_info": {
   "codemirror_mode": "r",
   "file_extension": ".r",
   "mimetype": "text/x-r-source",
   "name": "R",
   "pygments_lexer": "r",
   "version": "3.4.1"
  }
 },
 "nbformat": 4,
 "nbformat_minor": 2
}
