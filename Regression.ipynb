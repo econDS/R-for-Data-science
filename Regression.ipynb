{
 "cells": [
  {
   "cell_type": "markdown",
   "metadata": {},
   "source": [
    "# Regression\n",
    "\n",
    "ในการวิเคราะห์นี้จะแบ่งออกเป็น 2 ส่วน\n",
    "1. Exploratory data analysis\n",
    "+ Regression model\n",
    "\n",
    "ในส่วนของ Exploratory data analysis จะเป็นการสำรวจข้อมูลที่จะนำมาใช้ในตัวแปรอย่างคร่าวๆ ขณะที่ Regression model เป็นการวิเคราะสมการถดถอยแบบพหุโดยใช้ฟังกชันก์พื้นฐานที่อยู่ใน base R สำหรับการทำ Regression ด้วยวิธี Gradient Descent นั้นคลิ๊กที่นี่"
   ]
  },
  {
   "cell_type": "markdown",
   "metadata": {},
   "source": [
    "## นำเข้าข้อมูล\n",
    "\n",
    "ข้อมูลที่จะใช้ในการวิเคราะห์ครั้งนี้จะเป็นข้อมูลเกี่ยวกับค่าจ้างแรงงานที่มีการสำหรับจากหลายภูมิภาคในประเทศอเมริกา ซึ่งจะมีข้อมูลรายบุคคลที่บอกรายละเอียดเกี่ยวกับ ค่าจ้าง ประสบการทำงาน การศึกษา การสมสร ภูมิภาคและอื่นๆ ข้อมูล dataset ได้มาจาก Introductory Econometrics: A Modern Approach โดย Jeffrey Wooldrige  \n",
    "  \n",
    "โดยข้อมูลที่จะนำเข้าเข้าเป็นข้อมูล local นามสกุล .dta ซึ่งสามารถอ่านได้โดยซอฟต์แวร์สถิติ Stata โดยจำนำเข้าโดยใช้แพ็คเกจ haven ซึ่งจะอ่านข้อมูลสกุล .dta เป็น dtl_df จากนั้นแปลงเป็นข้อมูล dataframe  \n",
    "  \n",
    "*(จำเป็นต้องเปลี่ยน path ของ working directory และ path ของไฟล์ด้วย)*"
   ]
  },
  {
   "cell_type": "code",
   "execution_count": 6,
   "metadata": {
    "collapsed": false
   },
   "outputs": [
    {
     "name": "stderr",
     "output_type": "stream",
     "text": [
      "Warning message:\n",
      "\"package 'haven' was built under R version 3.4.3\""
     ]
    },
    {
     "data": {
      "text/html": [
       "<table>\n",
       "<thead><tr><th scope=col>wage</th><th scope=col>educ</th><th scope=col>exper</th><th scope=col>tenure</th><th scope=col>nonwhite</th><th scope=col>female</th><th scope=col>married</th><th scope=col>numdep</th><th scope=col>smsa</th><th scope=col>northcen</th><th scope=col>...</th><th scope=col>trcommpu</th><th scope=col>trade</th><th scope=col>services</th><th scope=col>profserv</th><th scope=col>profocc</th><th scope=col>clerocc</th><th scope=col>servocc</th><th scope=col>lwage</th><th scope=col>expersq</th><th scope=col>tenursq</th></tr></thead>\n",
       "<tbody>\n",
       "\t<tr><td>3.10    </td><td>11      </td><td> 2      </td><td> 0      </td><td>0       </td><td>1       </td><td>0       </td><td>2       </td><td>1       </td><td>0       </td><td>...     </td><td>0       </td><td>0       </td><td>0       </td><td>0       </td><td>0       </td><td>0       </td><td>0       </td><td>1.131402</td><td>   4    </td><td>  0     </td></tr>\n",
       "\t<tr><td>3.24    </td><td>12      </td><td>22      </td><td> 2      </td><td>0       </td><td>1       </td><td>1       </td><td>3       </td><td>1       </td><td>0       </td><td>...     </td><td>0       </td><td>0       </td><td>1       </td><td>0       </td><td>0       </td><td>0       </td><td>1       </td><td>1.175573</td><td> 484    </td><td>  4     </td></tr>\n",
       "\t<tr><td>3.00    </td><td>11      </td><td> 2      </td><td> 0      </td><td>0       </td><td>0       </td><td>0       </td><td>2       </td><td>0       </td><td>0       </td><td>...     </td><td>0       </td><td>1       </td><td>0       </td><td>0       </td><td>0       </td><td>0       </td><td>0       </td><td>1.098612</td><td>   4    </td><td>  0     </td></tr>\n",
       "\t<tr><td>6.00    </td><td> 8      </td><td>44      </td><td>28      </td><td>0       </td><td>0       </td><td>1       </td><td>0       </td><td>1       </td><td>0       </td><td>...     </td><td>0       </td><td>0       </td><td>0       </td><td>0       </td><td>0       </td><td>1       </td><td>0       </td><td>1.791759</td><td>1936    </td><td>784     </td></tr>\n",
       "\t<tr><td>5.30    </td><td>12      </td><td> 7      </td><td> 2      </td><td>0       </td><td>0       </td><td>1       </td><td>1       </td><td>0       </td><td>0       </td><td>...     </td><td>0       </td><td>0       </td><td>0       </td><td>0       </td><td>0       </td><td>0       </td><td>0       </td><td>1.667707</td><td>  49    </td><td>  4     </td></tr>\n",
       "\t<tr><td>8.75    </td><td>16      </td><td> 9      </td><td> 8      </td><td>0       </td><td>0       </td><td>1       </td><td>0       </td><td>1       </td><td>0       </td><td>...     </td><td>0       </td><td>0       </td><td>0       </td><td>1       </td><td>1       </td><td>0       </td><td>0       </td><td>2.169054</td><td>  81    </td><td> 64     </td></tr>\n",
       "</tbody>\n",
       "</table>\n"
      ],
      "text/latex": [
       "\\begin{tabular}{r|llllllllllllllllllllllll}\n",
       " wage & educ & exper & tenure & nonwhite & female & married & numdep & smsa & northcen & ... & trcommpu & trade & services & profserv & profocc & clerocc & servocc & lwage & expersq & tenursq\\\\\n",
       "\\hline\n",
       "\t 3.10     & 11       &  2       &  0       & 0        & 1        & 0        & 2        & 1        & 0        & ...      & 0        & 0        & 0        & 0        & 0        & 0        & 0        & 1.131402 &    4     &   0     \\\\\n",
       "\t 3.24     & 12       & 22       &  2       & 0        & 1        & 1        & 3        & 1        & 0        & ...      & 0        & 0        & 1        & 0        & 0        & 0        & 1        & 1.175573 &  484     &   4     \\\\\n",
       "\t 3.00     & 11       &  2       &  0       & 0        & 0        & 0        & 2        & 0        & 0        & ...      & 0        & 1        & 0        & 0        & 0        & 0        & 0        & 1.098612 &    4     &   0     \\\\\n",
       "\t 6.00     &  8       & 44       & 28       & 0        & 0        & 1        & 0        & 1        & 0        & ...      & 0        & 0        & 0        & 0        & 0        & 1        & 0        & 1.791759 & 1936     & 784     \\\\\n",
       "\t 5.30     & 12       &  7       &  2       & 0        & 0        & 1        & 1        & 0        & 0        & ...      & 0        & 0        & 0        & 0        & 0        & 0        & 0        & 1.667707 &   49     &   4     \\\\\n",
       "\t 8.75     & 16       &  9       &  8       & 0        & 0        & 1        & 0        & 1        & 0        & ...      & 0        & 0        & 0        & 1        & 1        & 0        & 0        & 2.169054 &   81     &  64     \\\\\n",
       "\\end{tabular}\n"
      ],
      "text/markdown": [
       "\n",
       "wage | educ | exper | tenure | nonwhite | female | married | numdep | smsa | northcen | ... | trcommpu | trade | services | profserv | profocc | clerocc | servocc | lwage | expersq | tenursq | \n",
       "|---|---|---|---|---|---|\n",
       "| 3.10     | 11       |  2       |  0       | 0        | 1        | 0        | 2        | 1        | 0        | ...      | 0        | 0        | 0        | 0        | 0        | 0        | 0        | 1.131402 |    4     |   0      | \n",
       "| 3.24     | 12       | 22       |  2       | 0        | 1        | 1        | 3        | 1        | 0        | ...      | 0        | 0        | 1        | 0        | 0        | 0        | 1        | 1.175573 |  484     |   4      | \n",
       "| 3.00     | 11       |  2       |  0       | 0        | 0        | 0        | 2        | 0        | 0        | ...      | 0        | 1        | 0        | 0        | 0        | 0        | 0        | 1.098612 |    4     |   0      | \n",
       "| 6.00     |  8       | 44       | 28       | 0        | 0        | 1        | 0        | 1        | 0        | ...      | 0        | 0        | 0        | 0        | 0        | 1        | 0        | 1.791759 | 1936     | 784      | \n",
       "| 5.30     | 12       |  7       |  2       | 0        | 0        | 1        | 1        | 0        | 0        | ...      | 0        | 0        | 0        | 0        | 0        | 0        | 0        | 1.667707 |   49     |   4      | \n",
       "| 8.75     | 16       |  9       |  8       | 0        | 0        | 1        | 0        | 1        | 0        | ...      | 0        | 0        | 0        | 1        | 1        | 0        | 0        | 2.169054 |   81     |  64      | \n",
       "\n",
       "\n"
      ],
      "text/plain": [
       "  wage educ exper tenure nonwhite female married numdep smsa northcen ...\n",
       "1 3.10 11    2     0     0        1      0       2      1    0        ...\n",
       "2 3.24 12   22     2     0        1      1       3      1    0        ...\n",
       "3 3.00 11    2     0     0        0      0       2      0    0        ...\n",
       "4 6.00  8   44    28     0        0      1       0      1    0        ...\n",
       "5 5.30 12    7     2     0        0      1       1      0    0        ...\n",
       "6 8.75 16    9     8     0        0      1       0      1    0        ...\n",
       "  trcommpu trade services profserv profocc clerocc servocc lwage    expersq\n",
       "1 0        0     0        0        0       0       0       1.131402    4   \n",
       "2 0        0     1        0        0       0       1       1.175573  484   \n",
       "3 0        1     0        0        0       0       0       1.098612    4   \n",
       "4 0        0     0        0        0       1       0       1.791759 1936   \n",
       "5 0        0     0        0        0       0       0       1.667707   49   \n",
       "6 0        0     0        1        1       0       0       2.169054   81   \n",
       "  tenursq\n",
       "1   0    \n",
       "2   4    \n",
       "3   0    \n",
       "4 784    \n",
       "5   4    \n",
       "6  64    "
      ]
     },
     "metadata": {},
     "output_type": "display_data"
    }
   ],
   "source": [
    "#import data\n",
    "setwd(\"C:/Users/DELL/Desktop/Self Learning/git/R\")\n",
    "library(haven)\n",
    "dtb <- read_dta(file=\"./dataset/WAGE1.dta\")\n",
    "df <- data.frame(dtb)\n",
    "head(df)"
   ]
  },
  {
   "cell_type": "markdown",
   "metadata": {},
   "source": [
    "# Exploratory data analysis\n",
    "\n",
    "ในส่วนนี้จะดูข้อมูลพื้นฐานที่จะมาใช้กับแบบจำลองถดถอยแบบคร่าวๆ"
   ]
  },
  {
   "cell_type": "code",
   "execution_count": 18,
   "metadata": {
    "collapsed": false
   },
   "outputs": [
    {
     "data": {
      "text/plain": [
       "   Min. 1st Qu.  Median    Mean 3rd Qu.    Max. \n",
       "  0.530   3.330   4.650   5.896   6.880  24.980 "
      ]
     },
     "metadata": {},
     "output_type": "display_data"
    },
    {
     "data": {
      "image/png": "[encoded data removed]",
      "text/plain": [
       "Plot with title \"Average hourly earnings in U.S.\""
      ]
     },
     "metadata": {},
     "output_type": "display_data"
    }
   ],
   "source": [
    "#Quick Exploratory data analysis(EDA) ####\n",
    "#1.Univarate\n",
    "\n",
    "summary(df$wage)\n",
    "hist(df$wage, main=\"Average hourly earnings in U.S.\" ,xlab=\"wage\" , axes=FALSE)\n",
    "axis(2)\n",
    "axis(1, at=seq(0,28, by=2), labels=seq(0,28, by=2))"
   ]
  },
  {
   "cell_type": "markdown",
   "metadata": {},
   "source": [
    "(จองพื้นที่ไว้เพื่อเขียนอธิบาย)"
   ]
  },
  {
   "cell_type": "code",
   "execution_count": 50,
   "metadata": {
    "collapsed": false
   },
   "outputs": [
    {
     "data": {
      "text/plain": [
       "   Min. 1st Qu.  Median    Mean 3rd Qu.    Max. \n",
       "   0.00   12.00   12.00   12.56   14.00   18.00 "
      ]
     },
     "metadata": {},
     "output_type": "display_data"
    },
    {
     "data": {
      "image/png": "[encoded data removed]",
      "text/plain": [
       "Plot with title \"Years of education\""
      ]
     },
     "metadata": {},
     "output_type": "display_data"
    }
   ],
   "source": [
    "summary(df$educ)\n",
    "hist(df$educ, main=\"Years of education\", xlab=\"educ\", xlim=c(0,20))"
   ]
  },
  {
   "cell_type": "markdown",
   "metadata": {},
   "source": [
    "(จองพื้นที่ไว้เพื่อเขียนอธิบาย)"
   ]
  },
  {
   "cell_type": "code",
   "execution_count": 28,
   "metadata": {
    "collapsed": false
   },
   "outputs": [
    {
     "data": {
      "text/plain": [
       "   Min. 1st Qu.  Median    Mean 3rd Qu.    Max. \n",
       "   1.00    5.00   13.50   17.02   26.00   51.00 "
      ]
     },
     "metadata": {},
     "output_type": "display_data"
    },
    {
     "data": {
      "image/png": "[encoded data removed]",
      "text/plain": [
       "Plot with title \"Years potential experience\""
      ]
     },
     "metadata": {},
     "output_type": "display_data"
    }
   ],
   "source": [
    "summary(df$exper)\n",
    "hist(df$exper, main=\"Years potential experience\", xlab=\"exper\")\n",
    "axis(2)\n",
    "axis(1, at=seq(0,55, by=5), labels=seq(0,55, by=5))"
   ]
  },
  {
   "cell_type": "markdown",
   "metadata": {},
   "source": [
    "(จองพื้นที่ไว้เพื่อเขียนอธิบาย)"
   ]
  },
  {
   "cell_type": "code",
   "execution_count": 51,
   "metadata": {
    "collapsed": false
   },
   "outputs": [
    {
     "data": {
      "text/plain": [
       "   Min. 1st Qu.  Median    Mean 3rd Qu.    Max. \n",
       "  0.000   0.000   2.000   5.105   7.000  44.000 "
      ]
     },
     "metadata": {},
     "output_type": "display_data"
    },
    {
     "data": {
      "image/png": "[encoded data removed]",
      "text/plain": [
       "Plot with title \"Years with current employer\""
      ]
     },
     "metadata": {},
     "output_type": "display_data"
    }
   ],
   "source": [
    "summary(df$tenure)\n",
    "hist(df$tenure, main=\"Years with current employer\", xlab=\"tenure\")\n",
    "axis(2, at=seq(0,400, by=100), labels=seq(0,400, by=100))\n",
    "axis(1, at=seq(0,45, by=5), labels=seq(0,45, by=5))"
   ]
  },
  {
   "cell_type": "markdown",
   "metadata": {},
   "source": [
    "(จองพื้นที่ไว้เพื่อเขียนอธิบาย)"
   ]
  },
  {
   "cell_type": "markdown",
   "metadata": {},
   "source": [
    "### ข้อมูลตัวแปรดัมมี่"
   ]
  },
  {
   "cell_type": "markdown",
   "metadata": {},
   "source": [
    "เนื่องจาก base R ไม่ได้แผนภูมิวงกลมที่แสดงร้อยละมาให้ ผมจึ่งเขี่ยนฟังก์ชัน pct_pie ที่จะสร้างแผนภูมิวงกลมที่สามารถกำหนดสี หัวข้อ การแบ่งตนึ่ง และความเข้มจางได้"
   ]
  },
  {
   "cell_type": "code",
   "execution_count": 33,
   "metadata": {
    "collapsed": true
   },
   "outputs": [],
   "source": [
    "pct_pie <- function(x, lb=c(\"Cat1\",\"Cat2\"), cl=c(\"cyan\",\"pink\"), tt=\"Title\", center=FALSE ,fade=FALSE) {\n",
    "  ft <- factor(x)\n",
    "  pct <- round(table(ft)*100/sum(table(ft)))\n",
    "  lb <- paste(lb, pct)\n",
    "  lb <- paste(lb,\"%\",sep=\"\")\n",
    "    \n",
    "  if (center==TRUE & fade==TRUE){\n",
    "    pie(table(ft), col=cl, labels = lb, main=tt, init.angle = 270, density=50)\n",
    "  } else if (center==TRUE & fade==FALSE) {\n",
    "    pie(table(ft), col=cl, labels = lb, main=tt, init.angle = 270)\n",
    "  } else if (center==FALSE & fade==TRUE) {\n",
    "    pie(table(ft), col=cl, labels = lb, main=tt, density=50)\n",
    "  } else {\n",
    "    pie(table(ft), col=cl, labels = lb, main=tt)\n",
    "  }\n",
    "  freqeuncy_table <- ft  \n",
    "  return(table(freqeuncy_table))\n",
    "}"
   ]
  },
  {
   "cell_type": "code",
   "execution_count": 34,
   "metadata": {
    "collapsed": false
   },
   "outputs": [
    {
     "data": {
      "text/plain": [
       "freqeuncy_table\n",
       "  0   1 \n",
       "472  54 "
      ]
     },
     "metadata": {},
     "output_type": "display_data"
    },
    {
     "data": {
      "image/png": "[encoded data removed]",
      "text/plain": [
       "Plot with title \"Ethnicity\""
      ]
     },
     "metadata": {},
     "output_type": "display_data"
    }
   ],
   "source": [
    "pct_pie(df$nonwhite, cl=c(\"#ffff99\",\"#666666\"),\n",
    "        tt=\"Ethnicity\", lb=c(\"White\", \"Non-White\"))"
   ]
  },
  {
   "cell_type": "markdown",
   "metadata": {},
   "source": [
    "(จองพื้นที่ไว้เพื่อเขียนอธิบาย)"
   ]
  },
  {
   "cell_type": "code",
   "execution_count": 35,
   "metadata": {
    "collapsed": false
   },
   "outputs": [
    {
     "data": {
      "text/plain": [
       "freqeuncy_table\n",
       "  0   1 \n",
       "274 252 "
      ]
     },
     "metadata": {},
     "output_type": "display_data"
    },
    {
     "data": {
      "image/png": "[encoded data removed]",
      "text/plain": [
       "Plot with title \"Sex\""
      ]
     },
     "metadata": {},
     "output_type": "display_data"
    }
   ],
   "source": [
    "pct_pie(df$female, lb=c(\"Male\", \"Female\"), cl=c(\"cyan\",\"pink\"),tt = \"Sex\",\n",
    "        center = TRUE, fade=TRUE)"
   ]
  },
  {
   "cell_type": "markdown",
   "metadata": {},
   "source": [
    "(จองพื้นที่ไว้เพื่อเขียนอธิบาย)"
   ]
  },
  {
   "cell_type": "code",
   "execution_count": 36,
   "metadata": {
    "collapsed": false
   },
   "outputs": [
    {
     "data": {
      "text/plain": [
       "freqeuncy_table\n",
       "  0   1 \n",
       "206 320 "
      ]
     },
     "metadata": {},
     "output_type": "display_data"
    },
    {
     "data": {
      "image/png": "[encoded data removed]",
      "text/plain": [
       "Plot with title \"Maried Status\""
      ]
     },
     "metadata": {},
     "output_type": "display_data"
    }
   ],
   "source": [
    "pct_pie(df$married, lb=c(\"Unmaried\",\"Maried\"), cl=c(\"grey\",\"pink\")\n",
    "        , tt=\"Maried Status\", center=TRUE)"
   ]
  },
  {
   "cell_type": "markdown",
   "metadata": {},
   "source": [
    "(จองพื้นที่ไว้เพื่อเขียนอธิบาย)"
   ]
  },
  {
   "cell_type": "code",
   "execution_count": 42,
   "metadata": {
    "collapsed": false
   },
   "outputs": [
    {
     "data": {
      "text/html": [
       "<table>\n",
       "<thead><tr><th></th><th scope=col>NE</th><th scope=col>S</th><th scope=col>W</th></tr></thead>\n",
       "<tbody>\n",
       "\t<tr><th scope=row>No (0)</th><td>394</td><td>339</td><td>437</td></tr>\n",
       "\t<tr><th scope=row>Yes (1)</th><td>132</td><td>187</td><td> 89</td></tr>\n",
       "</tbody>\n",
       "</table>\n"
      ],
      "text/latex": [
       "\\begin{tabular}{r|lll}\n",
       "  & NE & S & W\\\\\n",
       "\\hline\n",
       "\tNo (0) & 394 & 339 & 437\\\\\n",
       "\tYes (1) & 132 & 187 &  89\\\\\n",
       "\\end{tabular}\n"
      ],
      "text/markdown": [
       "\n",
       "| <!--/--> | NE | S | W | \n",
       "|---|---|\n",
       "| No (0) | 394 | 339 | 437 | \n",
       "| Yes (1) | 132 | 187 |  89 | \n",
       "\n",
       "\n"
      ],
      "text/plain": [
       "        NE  S   W  \n",
       "No (0)  394 339 437\n",
       "Yes (1) 132 187  89"
      ]
     },
     "metadata": {},
     "output_type": "display_data"
    }
   ],
   "source": [
    "region_table <- sapply(list(df$northcen, df$south, df$west), table)\n",
    "colnames(region_table) <- c(\"NE\",\"S\",\"W\")\n",
    "rownames(region_table) <- c(\"No (0)\", \"Yes (1)\")\n",
    "region_table"
   ]
  },
  {
   "cell_type": "markdown",
   "metadata": {},
   "source": [
    "(จองพื้นที่ไว้เพื่อเขียนอธิบาย)"
   ]
  },
  {
   "cell_type": "markdown",
   "metadata": {},
   "source": [
    "เนื่องจากตัวแปรภูมิภาคเป็นแบบดัมมี่ซึ่งเหมาะแก่การวิเคราะห์เชิงเศษฐมิคิ แต่ไม่เหมาะสำหรับการ visualise จึงต้องรวมเป็นตัวแปรเดียวกันเสียก่อน"
   ]
  },
  {
   "cell_type": "code",
   "execution_count": 43,
   "metadata": {
    "collapsed": false
   },
   "outputs": [
    {
     "data": {
      "text/plain": [
       "\n",
       "  1   2   3   4 \n",
       "132 187  89 118 "
      ]
     },
     "metadata": {},
     "output_type": "display_data"
    }
   ],
   "source": [
    "df2 <- df\n",
    "df2$region <- NA\n",
    "df2$region[df$northcen==1] <- 1\n",
    "df2$region[df$south==1] <- 2\n",
    "df2$region[df$west==1] <- 3\n",
    "df2$region[is.na(df2$region)] <- 4\n",
    "table(df2$region)"
   ]
  },
  {
   "cell_type": "markdown",
   "metadata": {},
   "source": [
    "(จองพื้นที่ไว้เพื่อเขียนอธิบาย)"
   ]
  },
  {
   "cell_type": "code",
   "execution_count": 44,
   "metadata": {
    "collapsed": false
   },
   "outputs": [
    {
     "data": {
      "text/plain": [
       "\n",
       "  2   1   4   3 \n",
       "187 132 118  89 "
      ]
     },
     "metadata": {},
     "output_type": "display_data"
    },
    {
     "data": {
      "image/png": "[encoded data removed]",
      "text/plain": [
       "Plot with title \"Region\""
      ]
     },
     "metadata": {},
     "output_type": "display_data"
    }
   ],
   "source": [
    "freq <- table(df2$region)[order(table(df2$region), decreasing = TRUE)]\n",
    "pfreq <- round(freq*100/sum(freq))\n",
    "pfreq <- paste(pfreq,\"%\",sep=\"\")\n",
    "\n",
    "p <- barplot(freq, col=rainbow(40), names.arg =c(\"NE\",\"S\",\"W\",\"Other\"),\n",
    "             main=\"Region\", ylim=c(0,200))\n",
    "text(x = p, y = freq, label = pfreq, pos = 1, cex = 1, col = \"black\")\n",
    "\n",
    "table(df2$region)[order(table(df2$region), decreasing = TRUE)]"
   ]
  },
  {
   "cell_type": "markdown",
   "metadata": {},
   "source": [
    "(จองพื้นที่ไว้เพื่อเขียนอธิบาย)"
   ]
  },
  {
   "cell_type": "markdown",
   "metadata": {},
   "source": [
    "# Regression model\n",
    "\n",
    "ในส่วนนี้จะเป็นการวิเคราะแบบจำลองถดถอยเพื่ออธิบายค่าจ้าง โดยจะเริ่มจากแบบจำลองที่เรียบง่ายก่อน"
   ]
  },
  {
   "cell_type": "code",
   "execution_count": 45,
   "metadata": {
    "collapsed": false
   },
   "outputs": [
    {
     "data": {
      "text/plain": [
       "\n",
       "Call:\n",
       "lm(formula = wage ~ educ + exper, data = df)\n",
       "\n",
       "Residuals:\n",
       "    Min      1Q  Median      3Q     Max \n",
       "-5.5532 -1.9801 -0.7071  1.2030 15.8370 \n",
       "\n",
       "Coefficients:\n",
       "            Estimate Std. Error t value Pr(>|t|)    \n",
       "(Intercept) -3.39054    0.76657  -4.423 1.18e-05 ***\n",
       "educ         0.64427    0.05381  11.974  < 2e-16 ***\n",
       "exper        0.07010    0.01098   6.385 3.78e-10 ***\n",
       "---\n",
       "Signif. codes:  0 '***' 0.001 '**' 0.01 '*' 0.05 '.' 0.1 ' ' 1\n",
       "\n",
       "Residual standard error: 3.257 on 523 degrees of freedom\n",
       "Multiple R-squared:  0.2252,\tAdjusted R-squared:  0.2222 \n",
       "F-statistic: 75.99 on 2 and 523 DF,  p-value: < 2.2e-16\n"
      ]
     },
     "metadata": {},
     "output_type": "display_data"
    }
   ],
   "source": [
    "#Regression model ####\n",
    "model1 <- lm(wage ~ educ+exper,data=df)\n",
    "summary(model1)"
   ]
  },
  {
   "cell_type": "markdown",
   "metadata": {},
   "source": [
    "(จองพื้นที่ไว้เพื่อเขียนอธิบาย)"
   ]
  },
  {
   "cell_type": "code",
   "execution_count": 46,
   "metadata": {
    "collapsed": false
   },
   "outputs": [
    {
     "data": {
      "text/plain": [
       "\n",
       "Call:\n",
       "lm(formula = wage ~ educ + exper + expersq, data = df)\n",
       "\n",
       "Residuals:\n",
       "    Min      1Q  Median      3Q     Max \n",
       "-6.0692 -2.0837 -0.5417  1.2860 15.1363 \n",
       "\n",
       "Coefficients:\n",
       "             Estimate Std. Error t value Pr(>|t|)    \n",
       "(Intercept) -3.964890   0.752153  -5.271 1.99e-07 ***\n",
       "educ         0.595343   0.053025  11.228  < 2e-16 ***\n",
       "exper        0.268287   0.036897   7.271 1.31e-12 ***\n",
       "expersq     -0.004612   0.000822  -5.611 3.26e-08 ***\n",
       "---\n",
       "Signif. codes:  0 '***' 0.001 '**' 0.01 '*' 0.05 '.' 0.1 ' ' 1\n",
       "\n",
       "Residual standard error: 3.166 on 522 degrees of freedom\n",
       "Multiple R-squared:  0.2692,\tAdjusted R-squared:  0.265 \n",
       "F-statistic: 64.11 on 3 and 522 DF,  p-value: < 2.2e-16\n"
      ]
     },
     "metadata": {},
     "output_type": "display_data"
    }
   ],
   "source": [
    "model2 <- lm(wage ~ educ+exper+expersq,data=df)\n",
    "summary(model2)"
   ]
  },
  {
   "cell_type": "markdown",
   "metadata": {},
   "source": [
    "(จองพื้นที่ไว้เพื่อเขียนอธิบาย)"
   ]
  },
  {
   "cell_type": "code",
   "execution_count": 47,
   "metadata": {
    "collapsed": false
   },
   "outputs": [
    {
     "data": {
      "text/plain": [
       "\n",
       "Call:\n",
       "lm(formula = wage ~ educ + exper + expersq + tenure, data = df)\n",
       "\n",
       "Residuals:\n",
       "   Min     1Q Median     3Q    Max \n",
       "-8.259 -1.844 -0.465  1.126 14.200 \n",
       "\n",
       "Coefficients:\n",
       "              Estimate Std. Error t value Pr(>|t|)    \n",
       "(Intercept) -3.4198669  0.7175124  -4.766 2.44e-06 ***\n",
       "educ         0.5564740  0.0505889  11.000  < 2e-16 ***\n",
       "exper        0.2051075  0.0359866   5.700 2.01e-08 ***\n",
       "expersq     -0.0042021  0.0007821  -5.373 1.17e-07 ***\n",
       "tenure       0.1614708  0.0211388   7.639 1.06e-13 ***\n",
       "---\n",
       "Signif. codes:  0 '***' 0.001 '**' 0.01 '*' 0.05 '.' 0.1 ' ' 1\n",
       "\n",
       "Residual standard error: 3.005 on 521 degrees of freedom\n",
       "Multiple R-squared:  0.3428,\tAdjusted R-squared:  0.3378 \n",
       "F-statistic: 67.95 on 4 and 521 DF,  p-value: < 2.2e-16\n"
      ]
     },
     "metadata": {},
     "output_type": "display_data"
    }
   ],
   "source": [
    "model3 <- lm(wage ~ educ+exper+expersq+tenure, data=df)\n",
    "summary(model3)"
   ]
  },
  {
   "cell_type": "markdown",
   "metadata": {},
   "source": [
    "(จองพื้นที่ไว้เพื่อเขียนอธิบาย)"
   ]
  },
  {
   "cell_type": "code",
   "execution_count": 48,
   "metadata": {
    "collapsed": false
   },
   "outputs": [
    {
     "data": {
      "text/plain": [
       "\n",
       "Call:\n",
       "lm(formula = wage ~ educ + exper + expersq + tenure + nonwhite + \n",
       "    female + smsa, data = df)\n",
       "\n",
       "Residuals:\n",
       "    Min      1Q  Median      3Q     Max \n",
       "-6.7286 -1.6496 -0.4188  1.1089 13.5140 \n",
       "\n",
       "Coefficients:\n",
       "             Estimate Std. Error t value Pr(>|t|)    \n",
       "(Intercept) -2.376398   0.718872  -3.306  0.00101 ** \n",
       "educ         0.496534   0.049398  10.052  < 2e-16 ***\n",
       "exper        0.212266   0.034263   6.195 1.19e-09 ***\n",
       "expersq     -0.004240   0.000744  -5.699 2.02e-08 ***\n",
       "tenure       0.129967   0.020503   6.339 5.04e-10 ***\n",
       "nonwhite    -0.190439   0.411875  -0.462  0.64401    \n",
       "female      -1.826950   0.255901  -7.139 3.19e-12 ***\n",
       "smsa         0.915255   0.286504   3.195  0.00149 ** \n",
       "---\n",
       "Signif. codes:  0 '***' 0.001 '**' 0.01 '*' 0.05 '.' 0.1 ' ' 1\n",
       "\n",
       "Residual standard error: 2.855 on 518 degrees of freedom\n",
       "Multiple R-squared:  0.4105,\tAdjusted R-squared:  0.4025 \n",
       "F-statistic: 51.53 on 7 and 518 DF,  p-value: < 2.2e-16\n"
      ]
     },
     "metadata": {},
     "output_type": "display_data"
    }
   ],
   "source": [
    "model4 <- lm(wage ~ educ+exper+expersq+tenure+nonwhite+female+smsa, data=df)\n",
    "summary(model4)"
   ]
  },
  {
   "cell_type": "markdown",
   "metadata": {},
   "source": [
    "(จองพื้นที่ไว้เพื่อเขียนอธิบาย)"
   ]
  },
  {
   "cell_type": "code",
   "execution_count": 49,
   "metadata": {
    "collapsed": false
   },
   "outputs": [
    {
     "data": {
      "text/plain": [
       "\n",
       "Call:\n",
       "lm(formula = wage ~ educ + exper + expersq + tenure + nonwhite + \n",
       "    female + smsa + northcen + south + west, data = df)\n",
       "\n",
       "Residuals:\n",
       "    Min      1Q  Median      3Q     Max \n",
       "-6.8947 -1.6947 -0.4179  1.1617 13.4701 \n",
       "\n",
       "Coefficients:\n",
       "              Estimate Std. Error t value Pr(>|t|)    \n",
       "(Intercept) -1.9803352  0.7598406  -2.606  0.00942 ** \n",
       "educ         0.4949868  0.0492377  10.053  < 2e-16 ***\n",
       "exper        0.2146396  0.0343335   6.252 8.53e-10 ***\n",
       "expersq     -0.0042669  0.0007454  -5.724 1.77e-08 ***\n",
       "tenure       0.1281942  0.0204160   6.279 7.24e-10 ***\n",
       "nonwhite    -0.1601583  0.4111599  -0.390  0.69705    \n",
       "female      -1.8653886  0.2546749  -7.325 9.30e-13 ***\n",
       "smsa         0.7659055  0.2911138   2.631  0.00877 ** \n",
       "northcen    -0.5409944  0.3603263  -1.501  0.13386    \n",
       "south       -0.5993109  0.3438981  -1.743  0.08198 .  \n",
       "west         0.4541613  0.3994139   1.137  0.25604    \n",
       "---\n",
       "Signif. codes:  0 '***' 0.001 '**' 0.01 '*' 0.05 '.' 0.1 ' ' 1\n",
       "\n",
       "Residual standard error: 2.835 on 515 degrees of freedom\n",
       "Multiple R-squared:  0.422,\tAdjusted R-squared:  0.4108 \n",
       "F-statistic:  37.6 on 10 and 515 DF,  p-value: < 2.2e-16\n"
      ]
     },
     "metadata": {},
     "output_type": "display_data"
    }
   ],
   "source": [
    "model5 <- lm(wage ~ educ+exper+expersq+tenure+nonwhite+female+smsa+northcen+south+west, data=df)\n",
    "summary(model5)"
   ]
  },
  {
   "cell_type": "markdown",
   "metadata": {},
   "source": [
    "(จองพื้นที่ไว้เพื่อเขียนอธิบาย)"
   ]
  }
 ],
 "metadata": {
  "kernelspec": {
   "display_name": "R",
   "language": "R",
   "name": "ir"
  },
  "language_info": {
   "codemirror_mode": "r",
   "file_extension": ".r",
   "mimetype": "text/x-r-source",
   "name": "R",
   "pygments_lexer": "r",
   "version": "3.4.1"
  }
 },
 "nbformat": 4,
 "nbformat_minor": 2
}
